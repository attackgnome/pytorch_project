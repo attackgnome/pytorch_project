{
  "nbformat": 4,
  "nbformat_minor": 0,
  "metadata": {
    "colab": {
      "name": "Image Classification.ipynb",
      "provenance": [],
      "collapsed_sections": [],
      "authorship_tag": "ABX9TyMxA/CtTtBLlMzexk72aF+w",
      "include_colab_link": true
    },
    "kernelspec": {
      "name": "python3",
      "display_name": "Python 3"
    },
    "accelerator": "GPU",
    "widgets": {
      "application/vnd.jupyter.widget-state+json": {
        "a460084077874dd8a49533d6ac29757d": {
          "model_module": "@jupyter-widgets/controls",
          "model_name": "HBoxModel",
          "state": {
            "_view_name": "HBoxView",
            "_dom_classes": [],
            "_model_name": "HBoxModel",
            "_view_module": "@jupyter-widgets/controls",
            "_model_module_version": "1.5.0",
            "_view_count": null,
            "_view_module_version": "1.5.0",
            "box_style": "",
            "layout": "IPY_MODEL_da7404be7871495daa512bd7402e8ad2",
            "_model_module": "@jupyter-widgets/controls",
            "children": [
              "IPY_MODEL_59aacafec30f4579a6d715046e98c190",
              "IPY_MODEL_e03499dffab549b286678846a1a3e4fa"
            ]
          }
        },
        "da7404be7871495daa512bd7402e8ad2": {
          "model_module": "@jupyter-widgets/base",
          "model_name": "LayoutModel",
          "state": {
            "_view_name": "LayoutView",
            "grid_template_rows": null,
            "right": null,
            "justify_content": null,
            "_view_module": "@jupyter-widgets/base",
            "overflow": null,
            "_model_module_version": "1.2.0",
            "_view_count": null,
            "flex_flow": null,
            "width": null,
            "min_width": null,
            "border": null,
            "align_items": null,
            "bottom": null,
            "_model_module": "@jupyter-widgets/base",
            "top": null,
            "grid_column": null,
            "overflow_y": null,
            "overflow_x": null,
            "grid_auto_flow": null,
            "grid_area": null,
            "grid_template_columns": null,
            "flex": null,
            "_model_name": "LayoutModel",
            "justify_items": null,
            "grid_row": null,
            "max_height": null,
            "align_content": null,
            "visibility": null,
            "align_self": null,
            "height": null,
            "min_height": null,
            "padding": null,
            "grid_auto_rows": null,
            "grid_gap": null,
            "max_width": null,
            "order": null,
            "_view_module_version": "1.2.0",
            "grid_template_areas": null,
            "object_position": null,
            "object_fit": null,
            "grid_auto_columns": null,
            "margin": null,
            "display": null,
            "left": null
          }
        },
        "59aacafec30f4579a6d715046e98c190": {
          "model_module": "@jupyter-widgets/controls",
          "model_name": "FloatProgressModel",
          "state": {
            "_view_name": "ProgressView",
            "style": "IPY_MODEL_369734cb5438480e93a06fbe55bfacdd",
            "_dom_classes": [],
            "description": "",
            "_model_name": "FloatProgressModel",
            "bar_style": "info",
            "max": 1,
            "_view_module": "@jupyter-widgets/controls",
            "_model_module_version": "1.5.0",
            "value": 1,
            "_view_count": null,
            "_view_module_version": "1.5.0",
            "orientation": "horizontal",
            "min": 0,
            "description_tooltip": null,
            "_model_module": "@jupyter-widgets/controls",
            "layout": "IPY_MODEL_b8f07535dcda4198b6ddcc11b7489438"
          }
        },
        "e03499dffab549b286678846a1a3e4fa": {
          "model_module": "@jupyter-widgets/controls",
          "model_name": "HTMLModel",
          "state": {
            "_view_name": "HTMLView",
            "style": "IPY_MODEL_172d9d6361bf4d77a57fb2de877c71ff",
            "_dom_classes": [],
            "description": "",
            "_model_name": "HTMLModel",
            "placeholder": "​",
            "_view_module": "@jupyter-widgets/controls",
            "_model_module_version": "1.5.0",
            "value": " 170500096/? [00:20&lt;00:00, 34080474.19it/s]",
            "_view_count": null,
            "_view_module_version": "1.5.0",
            "description_tooltip": null,
            "_model_module": "@jupyter-widgets/controls",
            "layout": "IPY_MODEL_29f8e8d076394f19b050f83d1eaefb02"
          }
        },
        "369734cb5438480e93a06fbe55bfacdd": {
          "model_module": "@jupyter-widgets/controls",
          "model_name": "ProgressStyleModel",
          "state": {
            "_view_name": "StyleView",
            "_model_name": "ProgressStyleModel",
            "description_width": "initial",
            "_view_module": "@jupyter-widgets/base",
            "_model_module_version": "1.5.0",
            "_view_count": null,
            "_view_module_version": "1.2.0",
            "bar_color": null,
            "_model_module": "@jupyter-widgets/controls"
          }
        },
        "b8f07535dcda4198b6ddcc11b7489438": {
          "model_module": "@jupyter-widgets/base",
          "model_name": "LayoutModel",
          "state": {
            "_view_name": "LayoutView",
            "grid_template_rows": null,
            "right": null,
            "justify_content": null,
            "_view_module": "@jupyter-widgets/base",
            "overflow": null,
            "_model_module_version": "1.2.0",
            "_view_count": null,
            "flex_flow": null,
            "width": null,
            "min_width": null,
            "border": null,
            "align_items": null,
            "bottom": null,
            "_model_module": "@jupyter-widgets/base",
            "top": null,
            "grid_column": null,
            "overflow_y": null,
            "overflow_x": null,
            "grid_auto_flow": null,
            "grid_area": null,
            "grid_template_columns": null,
            "flex": null,
            "_model_name": "LayoutModel",
            "justify_items": null,
            "grid_row": null,
            "max_height": null,
            "align_content": null,
            "visibility": null,
            "align_self": null,
            "height": null,
            "min_height": null,
            "padding": null,
            "grid_auto_rows": null,
            "grid_gap": null,
            "max_width": null,
            "order": null,
            "_view_module_version": "1.2.0",
            "grid_template_areas": null,
            "object_position": null,
            "object_fit": null,
            "grid_auto_columns": null,
            "margin": null,
            "display": null,
            "left": null
          }
        },
        "172d9d6361bf4d77a57fb2de877c71ff": {
          "model_module": "@jupyter-widgets/controls",
          "model_name": "DescriptionStyleModel",
          "state": {
            "_view_name": "StyleView",
            "_model_name": "DescriptionStyleModel",
            "description_width": "",
            "_view_module": "@jupyter-widgets/base",
            "_model_module_version": "1.5.0",
            "_view_count": null,
            "_view_module_version": "1.2.0",
            "_model_module": "@jupyter-widgets/controls"
          }
        },
        "29f8e8d076394f19b050f83d1eaefb02": {
          "model_module": "@jupyter-widgets/base",
          "model_name": "LayoutModel",
          "state": {
            "_view_name": "LayoutView",
            "grid_template_rows": null,
            "right": null,
            "justify_content": null,
            "_view_module": "@jupyter-widgets/base",
            "overflow": null,
            "_model_module_version": "1.2.0",
            "_view_count": null,
            "flex_flow": null,
            "width": null,
            "min_width": null,
            "border": null,
            "align_items": null,
            "bottom": null,
            "_model_module": "@jupyter-widgets/base",
            "top": null,
            "grid_column": null,
            "overflow_y": null,
            "overflow_x": null,
            "grid_auto_flow": null,
            "grid_area": null,
            "grid_template_columns": null,
            "flex": null,
            "_model_name": "LayoutModel",
            "justify_items": null,
            "grid_row": null,
            "max_height": null,
            "align_content": null,
            "visibility": null,
            "align_self": null,
            "height": null,
            "min_height": null,
            "padding": null,
            "grid_auto_rows": null,
            "grid_gap": null,
            "max_width": null,
            "order": null,
            "_view_module_version": "1.2.0",
            "grid_template_areas": null,
            "object_position": null,
            "object_fit": null,
            "grid_auto_columns": null,
            "margin": null,
            "display": null,
            "left": null
          }
        }
      }
    }
  },
  "cells": [
    {
      "cell_type": "markdown",
      "metadata": {
        "id": "view-in-github",
        "colab_type": "text"
      },
      "source": [
        "<a href=\"https://colab.research.google.com/github/attackgnome/pytorch_project/blob/master/Image_Classification.ipynb\" target=\"_parent\"><img src=\"https://colab.research.google.com/assets/colab-badge.svg\" alt=\"Open In Colab\"/></a>"
      ]
    },
    {
      "cell_type": "markdown",
      "metadata": {
        "id": "bsXoHHyJOPil",
        "colab_type": "text"
      },
      "source": [
        "# Project to classify images using pytorch\n",
        "\n",
        "The goal of this project is to gain familiarity with using pytorch for image classification and using gpu acceleration."
      ]
    },
    {
      "cell_type": "code",
      "metadata": {
        "id": "xNP2MlMkNoct",
        "colab_type": "code",
        "colab": {}
      },
      "source": [
        "import torch\n",
        "import torchvision\n",
        "import torchvision.transforms as transforms"
      ],
      "execution_count": 1,
      "outputs": []
    },
    {
      "cell_type": "markdown",
      "metadata": {
        "id": "LIvIAe0KOz9Q",
        "colab_type": "text"
      },
      "source": [
        "Make sure to change runtime options to allow use of gpu acceleration. "
      ]
    },
    {
      "cell_type": "code",
      "metadata": {
        "id": "J4v1WlCTTq5C",
        "colab_type": "code",
        "colab": {
          "base_uri": "https://localhost:8080/",
          "height": 34
        },
        "outputId": "b62bc612-5a4a-4b0a-d79a-494a2ff3ffda"
      },
      "source": [
        "device = torch.device(\"cuda:0\" if torch.cuda.is_available() else \"cpu\") #check if gpu is enabled\n",
        "\n",
        "# Assuming that we are on a CUDA machine, this should print a CUDA device:\n",
        "\n",
        "print(device)"
      ],
      "execution_count": 5,
      "outputs": [
        {
          "output_type": "stream",
          "text": [
            "cuda:0\n"
          ],
          "name": "stdout"
        }
      ]
    },
    {
      "cell_type": "markdown",
      "metadata": {
        "id": "MlSKoCuZVOKZ",
        "colab_type": "text"
      },
      "source": [
        "The output of torchvision datasets are PILImage images of range [0, 1]. Transform them to Tensors of normalized range [-1, 1]."
      ]
    },
    {
      "cell_type": "code",
      "metadata": {
        "id": "VB5c7iWsOy90",
        "colab_type": "code",
        "colab": {
          "base_uri": "https://localhost:8080/",
          "height": 100,
          "referenced_widgets": [
            "a460084077874dd8a49533d6ac29757d",
            "da7404be7871495daa512bd7402e8ad2",
            "59aacafec30f4579a6d715046e98c190",
            "e03499dffab549b286678846a1a3e4fa",
            "369734cb5438480e93a06fbe55bfacdd",
            "b8f07535dcda4198b6ddcc11b7489438",
            "172d9d6361bf4d77a57fb2de877c71ff",
            "29f8e8d076394f19b050f83d1eaefb02"
          ]
        },
        "outputId": "7c6d7719-9780-4602-9b15-16e7833acec1"
      },
      "source": [
        "transform = transforms.Compose(\n",
        "    [transforms.ToTensor(),\n",
        "     transforms.Normalize((0.5, 0.5, 0.5), (0.5, 0.5, 0.5))])\n",
        "\n",
        "trainset = torchvision.datasets.CIFAR10(root='./data', train=True,\n",
        "                                        download=True, transform=transform)\n",
        "trainloader = torch.utils.data.DataLoader(trainset, batch_size=4,\n",
        "                                          shuffle=True, num_workers=2)\n",
        "\n",
        "testset = torchvision.datasets.CIFAR10(root='./data', train=False,\n",
        "                                       download=True, transform=transform)\n",
        "testloader = torch.utils.data.DataLoader(testset, batch_size=4,\n",
        "                                         shuffle=False, num_workers=2)\n",
        "\n",
        "classes = ('plane', 'car', 'bird', 'cat',\n",
        "           'deer', 'dog', 'frog', 'horse', 'ship', 'truck')"
      ],
      "execution_count": 2,
      "outputs": [
        {
          "output_type": "stream",
          "text": [
            "Downloading https://www.cs.toronto.edu/~kriz/cifar-10-python.tar.gz to ./data/cifar-10-python.tar.gz\n"
          ],
          "name": "stdout"
        },
        {
          "output_type": "display_data",
          "data": {
            "application/vnd.jupyter.widget-view+json": {
              "model_id": "a460084077874dd8a49533d6ac29757d",
              "version_minor": 0,
              "version_major": 2
            },
            "text/plain": [
              "HBox(children=(FloatProgress(value=1.0, bar_style='info', max=1.0), HTML(value='')))"
            ]
          },
          "metadata": {
            "tags": []
          }
        },
        {
          "output_type": "stream",
          "text": [
            "Extracting ./data/cifar-10-python.tar.gz to ./data\n",
            "Files already downloaded and verified\n"
          ],
          "name": "stdout"
        }
      ]
    },
    {
      "cell_type": "markdown",
      "metadata": {
        "id": "1BBKQV-KQXmy",
        "colab_type": "text"
      },
      "source": [
        "Display training images to get an idea of what is in the dataset and print their labels."
      ]
    },
    {
      "cell_type": "code",
      "metadata": {
        "id": "Q3FQc9FgQV5C",
        "colab_type": "code",
        "colab": {
          "base_uri": "https://localhost:8080/",
          "height": 155
        },
        "outputId": "a9b68c78-84a4-454a-a085-900570c70419"
      },
      "source": [
        "import matplotlib.pyplot as plt\n",
        "import numpy as np\n",
        "\n",
        "# functions to show an image\n",
        "def imshow(img):\n",
        "    img = img / 2 + 0.5     # unnormalize\n",
        "    npimg = img.numpy()\n",
        "    plt.imshow(np.transpose(npimg, (1, 2, 0)))\n",
        "    plt.show()\n",
        "\n",
        "\n",
        "# get some random training images\n",
        "dataiter = iter(trainloader)\n",
        "images, labels = dataiter.next()\n",
        "\n",
        "# show images\n",
        "imshow(torchvision.utils.make_grid(images))\n",
        "# print labels\n",
        "print(' '.join('%5s' % classes[labels[j]] for j in range(4)))"
      ],
      "execution_count": 3,
      "outputs": [
        {
          "output_type": "display_data",
          "data": {
            "image/png": "[encoded data removed]",
            "text/plain": [
              "<Figure size 432x288 with 1 Axes>"
            ]
          },
          "metadata": {
            "tags": [],
            "needs_background": "light"
          }
        },
        {
          "output_type": "stream",
          "text": [
            "  car   dog horse truck\n"
          ],
          "name": "stdout"
        }
      ]
    },
    {
      "cell_type": "markdown",
      "metadata": {
        "id": "1QXwKRlzVksi",
        "colab_type": "text"
      },
      "source": [
        "Now let's jump into defining the convolutional neural network. "
      ]
    },
    {
      "cell_type": "code",
      "metadata": {
        "id": "lT2BNtygQfZS",
        "colab_type": "code",
        "colab": {
          "base_uri": "https://localhost:8080/",
          "height": 170
        },
        "outputId": "898d5bea-c025-47df-f330-fbe9e79ca98f"
      },
      "source": [
        "import torch.nn as nn\n",
        "import torch.nn.functional as F\n",
        "\n",
        "\n",
        "class Net(nn.Module):\n",
        "    def __init__(self):\n",
        "        super(Net, self).__init__()\n",
        "        self.conv1 = nn.Conv2d(3, 6, 5)\n",
        "        self.pool = nn.MaxPool2d(2, 2)\n",
        "        self.conv2 = nn.Conv2d(6, 16, 5)\n",
        "        self.fc1 = nn.Linear(16 * 5 * 5, 120)\n",
        "        self.drop_layer = nn.Dropout(p=0.5)  ## Add dropout later to experiment\n",
        "        self.fc2 = nn.Linear(120, 84)\n",
        "        self.drop_layer = nn.Dropout(p=0.5)  ## Add dropout later to experiment\n",
        "        self.fc3 = nn.Linear(84, 10)\n",
        "\n",
        "    def forward(self, x):\n",
        "        x = self.pool(F.relu(self.conv1(x)))\n",
        "        x = self.pool(F.relu(self.conv2(x)))\n",
        "        x = x.view(-1, 16 * 5 * 5)\n",
        "        x = F.relu(self.fc1(x))\n",
        "        x = F.relu(self.fc2(x))\n",
        "        x = self.fc3(x)\n",
        "        return x\n",
        "\n",
        "\n",
        "net = Net()\n",
        "net.to(device)"
      ],
      "execution_count": 26,
      "outputs": [
        {
          "output_type": "execute_result",
          "data": {
            "text/plain": [
              "Net(\n",
              "  (conv1): Conv2d(3, 6, kernel_size=(5, 5), stride=(1, 1))\n",
              "  (pool): MaxPool2d(kernel_size=2, stride=2, padding=0, dilation=1, ceil_mode=False)\n",
              "  (conv2): Conv2d(6, 16, kernel_size=(5, 5), stride=(1, 1))\n",
              "  (fc1): Linear(in_features=400, out_features=120, bias=True)\n",
              "  (drop_layer): Dropout(p=0.5, inplace=False)\n",
              "  (fc2): Linear(in_features=120, out_features=84, bias=True)\n",
              "  (fc3): Linear(in_features=84, out_features=10, bias=True)\n",
              ")"
            ]
          },
          "metadata": {
            "tags": []
          },
          "execution_count": 26
        }
      ]
    },
    {
      "cell_type": "markdown",
      "metadata": {
        "id": "aZVChqgiWNYR",
        "colab_type": "text"
      },
      "source": [
        "Define the optimizer. Since we have multiple classes we will use cross-entropy loss and SGD with momentum since that is what the tutorial suggests."
      ]
    },
    {
      "cell_type": "code",
      "metadata": {
        "id": "kMgT7rsqQ4Ub",
        "colab_type": "code",
        "colab": {}
      },
      "source": [
        "import torch.optim as optim\n",
        "\n",
        "criterion = nn.CrossEntropyLoss()\n",
        "optimizer = optim.SGD(net.parameters(), lr=0.001, momentum=0.9)\n",
        "#optimizer = optim.ASGD(net.parameters(), lr=0.001, lambd=0.0001, alpha=0.75, t0=1000000.0, weight_decay=0.0001) # try a different optimizer"
      ],
      "execution_count": 33,
      "outputs": []
    },
    {
      "cell_type": "markdown",
      "metadata": {
        "id": "QimSqsgjWpfB",
        "colab_type": "text"
      },
      "source": [
        "Alright, lets go ahead and train the model. We will set a few parameters in the front end that differentiate it from the example in the tutorial. Specifically we will define the number of epochs we want to use in training to see if we can improve on the results from the tutorial. "
      ]
    },
    {
      "cell_type": "code",
      "metadata": {
        "id": "ffG6rDe-Q-I7",
        "colab_type": "code",
        "colab": {
          "base_uri": "https://localhost:8080/",
          "height": 1000
        },
        "outputId": "b152cece-51f9-4a18-daad-867e4eb69bcf"
      },
      "source": [
        "epoch_choice = 16 #number of epochs to select for training. \n",
        "\n",
        "for epoch in range(epoch_choice):  # loop over the dataset multiple times\n",
        "\n",
        "    running_loss = 0.0\n",
        "    for i, data in enumerate(trainloader, 0):\n",
        "        # get the inputs; data is a list of [inputs, labels]\n",
        "        inputs, labels = data\n",
        "        \n",
        "        if torch.cuda.is_available():\n",
        "          inputs, labels = inputs.cuda(), labels.cuda() # Send input tensors to gpu if available.\n",
        "\n",
        "        # zero the parameter gradients\n",
        "        optimizer.zero_grad()\n",
        "\n",
        "        # forward + backward + optimize\n",
        "        outputs = net(inputs)\n",
        "        loss = criterion(outputs, labels)\n",
        "        loss.backward()\n",
        "        optimizer.step()\n",
        "\n",
        "        # print statistics\n",
        "        running_loss += loss.item()\n",
        "        if i % 2000 == 1999:    # print every 2000 mini-batches\n",
        "            print('[%d, %5d] loss: %.3f' %\n",
        "                  (epoch + 1, i + 1, running_loss / 2000))\n",
        "            running_loss = 0.0\n",
        "\n",
        "print('Finished Training')"
      ],
      "execution_count": 38,
      "outputs": [
        {
          "output_type": "stream",
          "text": [
            "[1,  2000] loss: 0.805\n",
            "[1,  4000] loss: 0.818\n",
            "[1,  6000] loss: 0.816\n",
            "[1,  8000] loss: 0.849\n",
            "[1, 10000] loss: 0.844\n",
            "[1, 12000] loss: 0.855\n",
            "[2,  2000] loss: 0.758\n",
            "[2,  4000] loss: 0.780\n",
            "[2,  6000] loss: 0.807\n",
            "[2,  8000] loss: 0.823\n",
            "[2, 10000] loss: 0.842\n",
            "[2, 12000] loss: 0.830\n",
            "[3,  2000] loss: 0.742\n",
            "[3,  4000] loss: 0.768\n",
            "[3,  6000] loss: 0.802\n",
            "[3,  8000] loss: 0.808\n",
            "[3, 10000] loss: 0.795\n",
            "[3, 12000] loss: 0.818\n",
            "[4,  2000] loss: 0.694\n",
            "[4,  4000] loss: 0.764\n",
            "[4,  6000] loss: 0.765\n",
            "[4,  8000] loss: 0.782\n",
            "[4, 10000] loss: 0.796\n",
            "[4, 12000] loss: 0.799\n",
            "[5,  2000] loss: 0.690\n",
            "[5,  4000] loss: 0.714\n",
            "[5,  6000] loss: 0.754\n",
            "[5,  8000] loss: 0.767\n",
            "[5, 10000] loss: 0.774\n",
            "[5, 12000] loss: 0.783\n",
            "[6,  2000] loss: 0.667\n",
            "[6,  4000] loss: 0.708\n",
            "[6,  6000] loss: 0.732\n",
            "[6,  8000] loss: 0.742\n",
            "[6, 10000] loss: 0.753\n",
            "[6, 12000] loss: 0.786\n",
            "[7,  2000] loss: 0.639\n",
            "[7,  4000] loss: 0.689\n",
            "[7,  6000] loss: 0.728\n",
            "[7,  8000] loss: 0.727\n",
            "[7, 10000] loss: 0.734\n",
            "[7, 12000] loss: 0.756\n",
            "[8,  2000] loss: 0.651\n",
            "[8,  4000] loss: 0.674\n",
            "[8,  6000] loss: 0.691\n",
            "[8,  8000] loss: 0.721\n",
            "[8, 10000] loss: 0.738\n",
            "[8, 12000] loss: 0.722\n",
            "[9,  2000] loss: 0.623\n",
            "[9,  4000] loss: 0.680\n",
            "[9,  6000] loss: 0.677\n",
            "[9,  8000] loss: 0.709\n",
            "[9, 10000] loss: 0.727\n",
            "[9, 12000] loss: 0.720\n",
            "[10,  2000] loss: 0.623\n",
            "[10,  4000] loss: 0.643\n",
            "[10,  6000] loss: 0.667\n",
            "[10,  8000] loss: 0.693\n",
            "[10, 10000] loss: 0.719\n",
            "[10, 12000] loss: 0.728\n",
            "[11,  2000] loss: 0.584\n",
            "[11,  4000] loss: 0.650\n",
            "[11,  6000] loss: 0.658\n",
            "[11,  8000] loss: 0.676\n",
            "[11, 10000] loss: 0.716\n",
            "[11, 12000] loss: 0.703\n",
            "[12,  2000] loss: 0.592\n",
            "[12,  4000] loss: 0.630\n",
            "[12,  6000] loss: 0.662\n",
            "[12,  8000] loss: 0.683\n",
            "[12, 10000] loss: 0.668\n",
            "[12, 12000] loss: 0.716\n",
            "[13,  2000] loss: 0.580\n",
            "[13,  4000] loss: 0.659\n",
            "[13,  6000] loss: 0.624\n",
            "[13,  8000] loss: 0.658\n",
            "[13, 10000] loss: 0.683\n",
            "[13, 12000] loss: 0.690\n",
            "[14,  2000] loss: 0.553\n",
            "[14,  4000] loss: 0.633\n",
            "[14,  6000] loss: 0.638\n",
            "[14,  8000] loss: 0.643\n",
            "[14, 10000] loss: 0.675\n",
            "[14, 12000] loss: 0.695\n",
            "[15,  2000] loss: 0.574\n",
            "[15,  4000] loss: 0.621\n",
            "[15,  6000] loss: 0.638\n",
            "[15,  8000] loss: 0.664\n",
            "[15, 10000] loss: 0.661\n",
            "[15, 12000] loss: 0.701\n",
            "[16,  2000] loss: 0.573\n",
            "[16,  4000] loss: 0.589\n",
            "[16,  6000] loss: 0.632\n",
            "[16,  8000] loss: 0.667\n",
            "[16, 10000] loss: 0.689\n",
            "[16, 12000] loss: 0.661\n",
            "Finished Training\n"
          ],
          "name": "stdout"
        }
      ]
    },
    {
      "cell_type": "markdown",
      "metadata": {
        "id": "71FbhxqTa0ur",
        "colab_type": "text"
      },
      "source": [
        "Let's save our trained model."
      ]
    },
    {
      "cell_type": "code",
      "metadata": {
        "id": "aZePGzUdRQ29",
        "colab_type": "code",
        "colab": {}
      },
      "source": [
        "PATH = './cifar_net.pth'\n",
        "torch.save(net.state_dict(), PATH)"
      ],
      "execution_count": 39,
      "outputs": []
    },
    {
      "cell_type": "code",
      "metadata": {
        "id": "oiz5s6phRfSD",
        "colab_type": "code",
        "colab": {
          "base_uri": "https://localhost:8080/",
          "height": 155
        },
        "outputId": "68c34f04-af30-4fb8-85ea-073e225cc705"
      },
      "source": [
        "dataiter = iter(testloader)\n",
        "images, labels = dataiter.next()\n",
        "\n",
        "# print images\n",
        "imshow(torchvision.utils.make_grid(images))\n",
        "print('GroundTruth: ', ' '.join('%5s' % classes[labels[j]] for j in range(4)))"
      ],
      "execution_count": 40,
      "outputs": [
        {
          "output_type": "display_data",
          "data": {
            "image/png": "[encoded data removed]",
            "text/plain": [
              "<Figure size 432x288 with 1 Axes>"
            ]
          },
          "metadata": {
            "tags": [],
            "needs_background": "light"
          }
        },
        {
          "output_type": "stream",
          "text": [
            "GroundTruth:    cat  ship  ship plane\n"
          ],
          "name": "stdout"
        }
      ]
    },
    {
      "cell_type": "code",
      "metadata": {
        "id": "hlQk2zDPR3xZ",
        "colab_type": "code",
        "colab": {
          "base_uri": "https://localhost:8080/",
          "height": 34
        },
        "outputId": "bf92766a-e8ab-4f3f-f0f3-f9cb4f24b4d3"
      },
      "source": [
        "_, predicted = torch.max(outputs, 1)\n",
        "\n",
        "print('Predicted: ', ' '.join('%5s' % classes[predicted[j]]\n",
        "                              for j in range(4)))"
      ],
      "execution_count": 41,
      "outputs": [
        {
          "output_type": "stream",
          "text": [
            "Predicted:   bird   car  frog   dog\n"
          ],
          "name": "stdout"
        }
      ]
    },
    {
      "cell_type": "code",
      "metadata": {
        "id": "xTcwHd27SkP8",
        "colab_type": "code",
        "colab": {
          "base_uri": "https://localhost:8080/",
          "height": 34
        },
        "outputId": "2b87d6d1-7bc2-4e64-8e09-a0f5eaf910fc"
      },
      "source": [
        "correct = 0\n",
        "total = 0\n",
        "with torch.no_grad():\n",
        "    for data in testloader:\n",
        "        images, labels = data\n",
        "        \n",
        "        if torch.cuda.is_available():\n",
        "          images, labels = images.cuda(), labels.cuda() # Send input images to gpu if available.\n",
        "\n",
        "        outputs = net(images)\n",
        "        _, predicted = torch.max(outputs.data, 1)\n",
        "        total += labels.size(0)\n",
        "        correct += (predicted == labels).sum().item()\n",
        "\n",
        "print('Accuracy of the network on the 10000 test images: %d %%' % (\n",
        "    100 * correct / total))"
      ],
      "execution_count": 42,
      "outputs": [
        {
          "output_type": "stream",
          "text": [
            "Accuracy of the network on the 10000 test images: 60 %\n"
          ],
          "name": "stdout"
        }
      ]
    },
    {
      "cell_type": "markdown",
      "metadata": {
        "id": "TecHBS_-dADY",
        "colab_type": "text"
      },
      "source": [
        "Compared to the 52% accuracy in the default tutorial, fine tuning a few of the parameters has significantly increased the accuracy. "
      ]
    },
    {
      "cell_type": "code",
      "metadata": {
        "id": "8DAXfULOTZtT",
        "colab_type": "code",
        "colab": {
          "base_uri": "https://localhost:8080/",
          "height": 187
        },
        "outputId": "f7cafe87-76dc-4139-c312-f9602bcafbd7"
      },
      "source": [
        "class_correct = list(0. for i in range(10))\n",
        "class_total = list(0. for i in range(10))\n",
        "with torch.no_grad():\n",
        "    for data in testloader:\n",
        "        images, labels = data\n",
        "        if torch.cuda.is_available():\n",
        "          images, labels = images.cuda(), labels.cuda() # Send input images to gpu if available.\n",
        "        outputs = net(images)\n",
        "        _, predicted = torch.max(outputs, 1)\n",
        "        c = (predicted == labels).squeeze()\n",
        "        for i in range(4):\n",
        "            label = labels[i]\n",
        "            class_correct[label] += c[i].item()\n",
        "            class_total[label] += 1\n",
        "\n",
        "\n",
        "for i in range(10):\n",
        "    print('Accuracy of %5s : %2d %%' % (\n",
        "        classes[i], 100 * class_correct[i] / class_total[i]))"
      ],
      "execution_count": 43,
      "outputs": [
        {
          "output_type": "stream",
          "text": [
            "Accuracy of plane : 59 %\n",
            "Accuracy of   car : 75 %\n",
            "Accuracy of  bird : 48 %\n",
            "Accuracy of   cat : 44 %\n",
            "Accuracy of  deer : 53 %\n",
            "Accuracy of   dog : 43 %\n",
            "Accuracy of  frog : 73 %\n",
            "Accuracy of horse : 63 %\n",
            "Accuracy of  ship : 75 %\n",
            "Accuracy of truck : 67 %\n"
          ],
          "name": "stdout"
        }
      ]
    }
  ]
}